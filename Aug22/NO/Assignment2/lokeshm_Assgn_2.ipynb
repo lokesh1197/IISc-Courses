{
 "cells": [
  {
   "cell_type": "markdown",
   "id": "f21e0152",
   "metadata": {},
   "source": [
    "# Assignment 2\n",
    "\n",
    "**Name:** Lokesh Mohanty\n",
    "\n",
    "**Email ID:** lokeshm@iisc.ac.in\n",
    "\n",
    "**ID:** 21014"
   ]
  },
  {
   "cell_type": "code",
   "execution_count": 1,
   "id": "1b94c2c4",
   "metadata": {},
   "outputs": [
    {
     "name": "stdout",
     "output_type": "stream",
     "text": [
      "Defaulting to user installation because normal site-packages is not writeable\n",
      "Requirement already satisfied: pip in /usr/lib/python3.11/site-packages (22.3.1)\n",
      "Defaulting to user installation because normal site-packages is not writeable\n",
      "Requirement already satisfied: numpy in /usr/lib/python3.11/site-packages (1.23.4)\n",
      "Defaulting to user installation because normal site-packages is not writeable\n",
      "Requirement already satisfied: scipy in /home/lokesh/.local/lib/python3.11/site-packages (1.9.3)\n",
      "Requirement already satisfied: numpy<1.26.0,>=1.18.5 in /usr/lib/python3.11/site-packages (from scipy) (1.23.4)\n",
      "Defaulting to user installation because normal site-packages is not writeable\n",
      "Collecting cvxopt\n",
      "  Using cached cvxopt-1.3.0.tar.gz (4.1 MB)\n",
      "  Preparing metadata (setup.py) ... \u001b[?25ldone\n",
      "\u001b[?25hInstalling collected packages: cvxopt\n",
      "\u001b[33m  DEPRECATION: cvxopt is being installed using the legacy 'setup.py install' method, because it does not have a 'pyproject.toml' and the 'wheel' package is not installed. pip 23.1 will enforce this behaviour change. A possible replacement is to enable the '--use-pep517' option. Discussion can be found at https://github.com/pypa/pip/issues/8559\u001b[0m\u001b[33m\n",
      "\u001b[0m  Running setup.py install for cvxopt ... \u001b[?25lerror\n",
      "  \u001b[1;31merror\u001b[0m: \u001b[1msubprocess-exited-with-error\u001b[0m\n",
      "  \n",
      "  \u001b[31m×\u001b[0m \u001b[32mRunning setup.py install for cvxopt\u001b[0m did not run successfully.\n",
      "  \u001b[31m│\u001b[0m exit code: \u001b[1;36m1\u001b[0m\n",
      "  \u001b[31m╰─>\u001b[0m \u001b[31m[37 lines of output]\u001b[0m\n",
      "  \u001b[31m   \u001b[0m running install\n",
      "  \u001b[31m   \u001b[0m /usr/lib/python3.11/site-packages/setuptools/command/install.py:34: SetuptoolsDeprecationWarning: setup.py install is deprecated. Use build and pip and other standards-based tools.\n",
      "  \u001b[31m   \u001b[0m   warnings.warn(\n",
      "  \u001b[31m   \u001b[0m running build\n",
      "  \u001b[31m   \u001b[0m running build_py\n",
      "  \u001b[31m   \u001b[0m creating build\n",
      "  \u001b[31m   \u001b[0m creating build/lib.linux-x86_64-cpython-311\n",
      "  \u001b[31m   \u001b[0m creating build/lib.linux-x86_64-cpython-311/cvxopt\n",
      "  \u001b[31m   \u001b[0m copying src/python/solvers.py -> build/lib.linux-x86_64-cpython-311/cvxopt\n",
      "  \u001b[31m   \u001b[0m copying src/python/printing.py -> build/lib.linux-x86_64-cpython-311/cvxopt\n",
      "  \u001b[31m   \u001b[0m copying src/python/msk.py -> build/lib.linux-x86_64-cpython-311/cvxopt\n",
      "  \u001b[31m   \u001b[0m copying src/python/modeling.py -> build/lib.linux-x86_64-cpython-311/cvxopt\n",
      "  \u001b[31m   \u001b[0m copying src/python/misc.py -> build/lib.linux-x86_64-cpython-311/cvxopt\n",
      "  \u001b[31m   \u001b[0m copying src/python/info.py -> build/lib.linux-x86_64-cpython-311/cvxopt\n",
      "  \u001b[31m   \u001b[0m copying src/python/cvxprog.py -> build/lib.linux-x86_64-cpython-311/cvxopt\n",
      "  \u001b[31m   \u001b[0m copying src/python/coneprog.py -> build/lib.linux-x86_64-cpython-311/cvxopt\n",
      "  \u001b[31m   \u001b[0m copying src/python/_version.py -> build/lib.linux-x86_64-cpython-311/cvxopt\n",
      "  \u001b[31m   \u001b[0m copying src/python/__init__.py -> build/lib.linux-x86_64-cpython-311/cvxopt\n",
      "  \u001b[31m   \u001b[0m UPDATING build/lib.linux-x86_64-cpython-311/cvxopt/_version.py\n",
      "  \u001b[31m   \u001b[0m set build/lib.linux-x86_64-cpython-311/cvxopt/_version.py to '1.3.0'\n",
      "  \u001b[31m   \u001b[0m running build_ext\n",
      "  \u001b[31m   \u001b[0m building 'base' extension\n",
      "  \u001b[31m   \u001b[0m creating build/temp.linux-x86_64-cpython-311\n",
      "  \u001b[31m   \u001b[0m creating build/temp.linux-x86_64-cpython-311/src\n",
      "  \u001b[31m   \u001b[0m creating build/temp.linux-x86_64-cpython-311/src/C\n",
      "  \u001b[31m   \u001b[0m x86_64-unknown-linux-gnu-gcc -pthread -Wsign-compare -DNDEBUG -g -fwrapv -O3 -Wall -fstack-clash-protection -D_FORTIFY_SOURCE=2 -mtune=generic -O2 -pipe -g -fstack-clash-protection -D_FORTIFY_SOURCE=2 -mtune=generic -O2 -pipe -g -fPIC -I/usr/include/python3.11 -c src/C/base.c -o build/temp.linux-x86_64-cpython-311/src/C/base.o\n",
      "  \u001b[31m   \u001b[0m x86_64-unknown-linux-gnu-gcc -pthread -Wsign-compare -DNDEBUG -g -fwrapv -O3 -Wall -fstack-clash-protection -D_FORTIFY_SOURCE=2 -mtune=generic -O2 -pipe -g -fstack-clash-protection -D_FORTIFY_SOURCE=2 -mtune=generic -O2 -pipe -g -fPIC -I/usr/include/python3.11 -c src/C/dense.c -o build/temp.linux-x86_64-cpython-311/src/C/dense.o\n",
      "  \u001b[31m   \u001b[0m src/C/dense.c: In function 'Matrix_NewFromPyBuffer':\n",
      "  \u001b[31m   \u001b[0m src/C/dense.c:277:28: warning: 'n.d' may be used uninitialized in this function [-Wmaybe-uninitialized]\n",
      "  \u001b[31m   \u001b[0m   277 |        MAT_BUFD(a)[cnt] = n.d;\n",
      "  \u001b[31m   \u001b[0m       |                           ~^~\n",
      "  \u001b[31m   \u001b[0m x86_64-unknown-linux-gnu-gcc -pthread -Wsign-compare -DNDEBUG -g -fwrapv -O3 -Wall -fstack-clash-protection -D_FORTIFY_SOURCE=2 -mtune=generic -O2 -pipe -g -fstack-clash-protection -D_FORTIFY_SOURCE=2 -mtune=generic -O2 -pipe -g -fPIC -I/usr/include/python3.11 -c src/C/sparse.c -o build/temp.linux-x86_64-cpython-311/src/C/sparse.o\n",
      "  \u001b[31m   \u001b[0m x86_64-unknown-linux-gnu-gcc -pthread -shared -Wl,-z,relro -Wl,-z,now -Wl,--as-needed -Wl,-z,relro -Wl,-z,now -Wl,--as-needed build/temp.linux-x86_64-cpython-311/src/C/base.o build/temp.linux-x86_64-cpython-311/src/C/dense.o build/temp.linux-x86_64-cpython-311/src/C/sparse.o -L/usr/lib -L/usr/lib64 -lm -llapack -lblas -o build/lib.linux-x86_64-cpython-311/cvxopt/base.cpython-311-x86_64-linux-gnu.so\n",
      "  \u001b[31m   \u001b[0m /bin/ld: cannot find -llapack\n",
      "  \u001b[31m   \u001b[0m /bin/ld: cannot find -lblas\n",
      "  \u001b[31m   \u001b[0m collect2: error: ld returned 1 exit status\n",
      "  \u001b[31m   \u001b[0m error: command '/bin/x86_64-unknown-linux-gnu-gcc' failed with exit code 1\n",
      "  \u001b[31m   \u001b[0m \u001b[31m[end of output]\u001b[0m\n",
      "  \n",
      "  \u001b[1;35mnote\u001b[0m: This error originates from a subprocess, and is likely not a problem with pip.\n",
      "\u001b[1;31merror\u001b[0m: \u001b[1mlegacy-install-failure\u001b[0m\n",
      "\n",
      "\u001b[31m×\u001b[0m Encountered error while trying to install package.\n",
      "\u001b[31m╰─>\u001b[0m cvxopt\n",
      "\n",
      "\u001b[1;35mnote\u001b[0m: This is an issue with the package mentioned above, not pip.\n",
      "\u001b[1;36mhint\u001b[0m: See above for output from the failure.\n",
      "\u001b[?25hDefaulting to user installation because normal site-packages is not writeable\n",
      "Requirement already satisfied: matplotlib in /home/lokesh/.local/lib/python3.11/site-packages (3.6.2)\n",
      "Requirement already satisfied: contourpy>=1.0.1 in /home/lokesh/.local/lib/python3.11/site-packages (from matplotlib) (1.0.6)\n",
      "Requirement already satisfied: cycler>=0.10 in /home/lokesh/.local/lib/python3.11/site-packages (from matplotlib) (0.11.0)\n",
      "Requirement already satisfied: fonttools>=4.22.0 in /home/lokesh/.local/lib/python3.11/site-packages (from matplotlib) (4.38.0)\n",
      "Requirement already satisfied: kiwisolver>=1.0.1 in /home/lokesh/.local/lib/python3.11/site-packages (from matplotlib) (1.4.4)\n",
      "Requirement already satisfied: numpy>=1.19 in /usr/lib/python3.11/site-packages (from matplotlib) (1.23.4)\n",
      "Requirement already satisfied: packaging>=20.0 in /usr/lib/python3.11/site-packages (from matplotlib) (21.3)\n",
      "Requirement already satisfied: pillow>=6.2.0 in /usr/lib/python3.11/site-packages (from matplotlib) (9.3.0)\n",
      "Requirement already satisfied: pyparsing>=2.2.1 in /usr/lib/python3.11/site-packages (from matplotlib) (2.4.7)\n",
      "Requirement already satisfied: python-dateutil>=2.7 in /usr/lib/python3.11/site-packages (from matplotlib) (2.8.2)\n",
      "Requirement already satisfied: six>=1.5 in /usr/lib/python3.11/site-packages (from python-dateutil>=2.7->matplotlib) (1.16.0)\n"
     ]
    }
   ],
   "source": [
    "!pip install --upgrade pip\n",
    "!pip install numpy\n",
    "!pip install scipy\n",
    "!pip install cvxopt  # for convex optimization\n",
    "!pip install matplotlib"
   ]
  },
  {
   "cell_type": "code",
   "execution_count": 4,
   "id": "dc6b0fd4",
   "metadata": {},
   "outputs": [],
   "source": [
    "import numpy as np\n",
    "from scipy.optimize import linprog\n",
    "# from cvxopt import matrix, solvers\n",
    "from matplotlib import pyplot as plt\n",
    "from random import random"
   ]
  },
  {
   "cell_type": "markdown",
   "id": "6e366bcf",
   "metadata": {},
   "source": [
    "## Problem 1: Conjugate Gradient"
   ]
  },
  {
   "cell_type": "code",
   "execution_count": 9,
   "id": "f3d546b2",
   "metadata": {},
   "outputs": [],
   "source": [
    "def cg(A, b, xk):\n",
    "    rk = A.dot(xk) - b\n",
    "    pk = -rk\n",
    "    k  = 0\n",
    "    while rk != np.zeros(rk.shape):\n",
    "        alpha = rk.dot(rk) / pk.dot(A.dot(pk))\n",
    "        xk = xk + alpha*pk\n",
    "        rk1 = rk + alpha*A.dot(pk)\n",
    "        beta = rk1.dot(rk1) / rk.dot(rk)\n",
    "        pk = -rk1 + beta * pk\n",
    "        rk = rk1\n",
    "        k += 1\n",
    "    return xk"
   ]
  },
  {
   "cell_type": "code",
   "execution_count": 10,
   "id": "1391f857",
   "metadata": {},
   "outputs": [
    {
     "ename": "ValueError",
     "evalue": "The truth value of an array with more than one element is ambiguous. Use a.any() or a.all()",
     "output_type": "error",
     "traceback": [
      "\u001b[0;31m---------------------------------------------------------------------------\u001b[0m",
      "\u001b[0;31mValueError\u001b[0m                                Traceback (most recent call last)",
      "Cell \u001b[0;32mIn [10], line 3\u001b[0m\n\u001b[1;32m      1\u001b[0m H \u001b[38;5;241m=\u001b[39m np\u001b[38;5;241m.\u001b[39marray([[random() \u001b[38;5;28;01mfor\u001b[39;00m _ \u001b[38;5;129;01min\u001b[39;00m \u001b[38;5;28mrange\u001b[39m(\u001b[38;5;241m10\u001b[39m)] \u001b[38;5;28;01mfor\u001b[39;00m _ \u001b[38;5;129;01min\u001b[39;00m \u001b[38;5;28mrange\u001b[39m(\u001b[38;5;241m10\u001b[39m)])\n\u001b[1;32m      2\u001b[0m b \u001b[38;5;241m=\u001b[39m np\u001b[38;5;241m.\u001b[39marray([random() \u001b[38;5;28;01mfor\u001b[39;00m _ \u001b[38;5;129;01min\u001b[39;00m \u001b[38;5;28mrange\u001b[39m(\u001b[38;5;241m10\u001b[39m)])\n\u001b[0;32m----> 3\u001b[0m x \u001b[38;5;241m=\u001b[39m \u001b[43mcg\u001b[49m\u001b[43m(\u001b[49m\u001b[43mH\u001b[49m\u001b[43m,\u001b[49m\u001b[43m \u001b[49m\u001b[43mb\u001b[49m\u001b[43m,\u001b[49m\u001b[43m \u001b[49m\u001b[43mnp\u001b[49m\u001b[38;5;241;43m.\u001b[39;49m\u001b[43mzeros\u001b[49m\u001b[43m(\u001b[49m\u001b[38;5;241;43m10\u001b[39;49m\u001b[43m)\u001b[49m\u001b[43m)\u001b[49m\n\u001b[1;32m      4\u001b[0m \u001b[38;5;28mprint\u001b[39m(x)\n",
      "Cell \u001b[0;32mIn [9], line 5\u001b[0m, in \u001b[0;36mcg\u001b[0;34m(A, b, xk)\u001b[0m\n\u001b[1;32m      3\u001b[0m pk \u001b[38;5;241m=\u001b[39m \u001b[38;5;241m-\u001b[39mrk\n\u001b[1;32m      4\u001b[0m k  \u001b[38;5;241m=\u001b[39m \u001b[38;5;241m0\u001b[39m\n\u001b[0;32m----> 5\u001b[0m \u001b[38;5;28;01mwhile\u001b[39;00m rk \u001b[38;5;241m!=\u001b[39m np\u001b[38;5;241m.\u001b[39mzeros(rk\u001b[38;5;241m.\u001b[39mshape):\n\u001b[1;32m      6\u001b[0m     alpha \u001b[38;5;241m=\u001b[39m rk\u001b[38;5;241m.\u001b[39mdot(rk) \u001b[38;5;241m/\u001b[39m pk\u001b[38;5;241m.\u001b[39mdot(A\u001b[38;5;241m.\u001b[39mdot(pk))\n\u001b[1;32m      7\u001b[0m     xk \u001b[38;5;241m=\u001b[39m xk \u001b[38;5;241m+\u001b[39m alpha\u001b[38;5;241m*\u001b[39mpk\n",
      "\u001b[0;31mValueError\u001b[0m: The truth value of an array with more than one element is ambiguous. Use a.any() or a.all()"
     ]
    }
   ],
   "source": [
    "H = np.array([[random() for _ in range(10)] for _ in range(10)])\n",
    "b = np.array([random() for _ in range(10)])\n",
    "x = cg(H, b, np.zeros(10))\n",
    "print(x)"
   ]
  },
  {
   "cell_type": "markdown",
   "id": "4c90be70",
   "metadata": {},
   "source": [
    "## Problem 2: Linear Programming"
   ]
  },
  {
   "cell_type": "code",
   "execution_count": null,
   "id": "b1dd5e95",
   "metadata": {},
   "outputs": [],
   "source": []
  },
  {
   "cell_type": "markdown",
   "id": "f39268b3",
   "metadata": {},
   "source": [
    "## Problem 3: Quadratic Programming"
   ]
  },
  {
   "cell_type": "code",
   "execution_count": null,
   "id": "7c2aa466",
   "metadata": {},
   "outputs": [],
   "source": []
  }
 ],
 "metadata": {
  "kernelspec": {
   "display_name": "Python 3",
   "language": "python",
   "name": "python3"
  },
  "language_info": {
   "codemirror_mode": {
    "name": "ipython",
    "version": 3
   },
   "file_extension": ".py",
   "mimetype": "text/x-python",
   "name": "python",
   "nbconvert_exporter": "python",
   "pygments_lexer": "ipython3",
   "version": "3.11.0"
  }
 },
 "nbformat": 4,
 "nbformat_minor": 5
}
