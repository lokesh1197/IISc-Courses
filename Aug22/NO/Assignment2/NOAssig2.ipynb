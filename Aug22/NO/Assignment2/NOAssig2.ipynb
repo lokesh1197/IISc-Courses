{
  "nbformat": 4,
  "nbformat_minor": 0,
  "metadata": {
    "colab": {
      "provenance": []
    },
    "kernelspec": {
      "name": "python3",
      "display_name": "Python 3"
    },
    "language_info": {
      "name": "python"
    }
  },
  "cells": [
    {
      "cell_type": "code",
      "execution_count": null,
      "metadata": {
        "id": "ey_JOTPXJv8G"
      },
      "outputs": [],
      "source": [
        "import numpy as np\n",
        "import pandas as pd\n",
        "import matplotlib.pyplot as plt\n",
        "from scipy import linalg\n",
        "import scipy\n",
        "from cvxopt import matrix, solvers"
      ]
    },
    {
      "cell_type": "markdown",
      "source": [
        "$\\textbf{Problem 1}$ \\\\\n",
        "**Conjugate Gradient** \\\\\n",
        "(a)(1.5 marks) Code the Conjugate Gradient Method and apply it to solve a simple Hx=b system, with\n",
        "H’s dimension as 10 × 10. \\\\\n",
        "(b) (1.5 marks) Construct matrices with various eigenvalue distributions (clustered and non-clustered)\n",
        "and apply the above CG method to them. Comment on the behaviour of the CG method in terms of\n",
        "convergence.\n"
      ],
      "metadata": {
        "id": "c6D2jbj_h8TJ"
      }
    },
    {
      "cell_type": "code",
      "source": [
        "def conjugate_gradient(H, b, x_init): #(H, b, x_init, tolerance):\n",
        "    '''\n",
        "    Solving the linear system of equations Hx = b\n",
        "    '''\n",
        "    r_curr = (H@x_init) - b\n",
        "    p_curr = -r_curr\n",
        "    x_curr = x_init\n",
        "    \n",
        "    # if np.linalg.norm(r_curr, 2) < tolerance:\n",
        "    #     return x_curr\n",
        "    \n",
        "    k = 0 #iterations\n",
        "    while (np.linalg.norm(r_curr, 2) != 0): #np.linalg.norm(r_curr, 2) > tolerance:\n",
        "        H_p = H@p_curr\n",
        "        alpha_curr = np.dot(r_curr, r_curr) / np.dot(p_curr, H_p)\n",
        "        x_curr = x_curr + alpha_curr * p_curr\n",
        "        r_next = r_curr + alpha_curr * H_p\n",
        "        beta = np.dot(r_next, r_next) / np.dot(r_curr, r_curr)\n",
        "        p_curr = -r_next + beta*p_curr\n",
        "        r_curr = r_next\n",
        "        k += 1\n",
        "        \n",
        "    return x_curr, k"
      ],
      "metadata": {
        "id": "7AwN4Vz0J7Ey"
      },
      "execution_count": null,
      "outputs": []
    },
    {
      "cell_type": "code",
      "source": [],
      "metadata": {
        "id": "k5R3x9c4dfdY"
      },
      "execution_count": null,
      "outputs": []
    },
    {
      "cell_type": "code",
      "source": [
        "n = 10\n",
        "H = np.diag(np.ones(10))\n",
        "b = np.ones(n)\n",
        "x_init = np.zeros(n)\n",
        "tolerance = 1e-6\n",
        "eig_values = np.linalg.eigvals(H)\n",
        "unique_eigen_values = np.unique(eig_values)\n",
        "x_opt, iters = conjugate_gradient(H, b, x_init) #\n",
        "\n",
        "print('Unique Eigen Values are', unique_eigen_values)\n",
        "print('Iterations to converge are', iters)"
      ],
      "metadata": {
        "colab": {
          "base_uri": "https://localhost:8080/"
        },
        "id": "W4O4LygBg-jE",
        "outputId": "35f52b72-c52c-4407-8d6c-df66ced58a7e"
      },
      "execution_count": null,
      "outputs": [
        {
          "output_type": "stream",
          "name": "stdout",
          "text": [
            "Unique Eigen Values are [1.]\n",
            "Iterations to converge are 1\n"
          ]
        }
      ]
    },
    {
      "cell_type": "code",
      "source": [
        "plt.figure()\n",
        "plt.title('Eigen Value Distribution')\n",
        "plt.eventplot(eig_values)\n",
        "plt.xlabel('Eigen Values')\n",
        "#plt.axis('off')\n",
        "plt.show()"
      ],
      "metadata": {
        "colab": {
          "base_uri": "https://localhost:8080/",
          "height": 295
        },
        "id": "qKgim6S4g-WL",
        "outputId": "d9358305-1f25-432f-c83a-114bca5cc34c"
      },
      "execution_count": null,
      "outputs": [
        {
          "output_type": "display_data",
          "data": {
            "text/plain": [
              "<Figure size 432x288 with 1 Axes>"
            ],
            "image/png": "[encoded data removed]"
          },
          "metadata": {
            "needs_background": "light"
          }
        }
      ]
    },
    {
      "cell_type": "markdown",
      "source": [
        "Here we have taken simple diagonal matrices to show the eigen value distribution. For identity matrix, there is only one eigen value, hence it takes 1 step to converge. "
      ],
      "metadata": {
        "id": "zJs1cf23cxKR"
      }
    },
    {
      "cell_type": "code",
      "source": [
        "n = 10\n",
        "H = np.diag(np.append(np.ones(5), 5*np.ones(5)))\n",
        "b = np.ones(n)\n",
        "x_init = np.zeros(n)\n",
        "tolerance = 1e-6\n",
        "eig_values = np.linalg.eigvals(H)\n",
        "unique_eigen_values = np.unique(eig_values)\n",
        "x_opt, iters = conjugate_gradient(H, b, x_init)\n",
        "\n",
        "\n",
        "print('Unique Eigen Values are', unique_eigen_values)\n",
        "print('Iterations to converge are', iters)"
      ],
      "metadata": {
        "colab": {
          "base_uri": "https://localhost:8080/"
        },
        "id": "CX1CDGYbg-PH",
        "outputId": "55397b2c-e484-4554-cdbf-a068b2ba8ac7"
      },
      "execution_count": null,
      "outputs": [
        {
          "output_type": "stream",
          "name": "stdout",
          "text": [
            "Unique Eigen Values are [1. 5.]\n",
            "Iterations to converge are 19\n"
          ]
        }
      ]
    },
    {
      "cell_type": "code",
      "source": [
        "plt.figure()\n",
        "plt.title('Eigen Value Distribution')\n",
        "plt.eventplot(eig_values)\n",
        "plt.xlabel('Eigen Values')\n",
        "#plt.axis('off')\n",
        "plt.show()"
      ],
      "metadata": {
        "colab": {
          "base_uri": "https://localhost:8080/",
          "height": 295
        },
        "id": "utHYKxd2g-Hm",
        "outputId": "cda91e16-78b2-4038-b1ff-269358b481dc"
      },
      "execution_count": null,
      "outputs": [
        {
          "output_type": "display_data",
          "data": {
            "text/plain": [
              "<Figure size 432x288 with 1 Axes>"
            ],
            "image/png": "[encoded data removed]"
          },
          "metadata": {
            "needs_background": "light"
          }
        }
      ]
    },
    {
      "cell_type": "markdown",
      "source": [
        "In second example, there are two eigen values 1 and 5, hence the procedure converges in 2 iterations. "
      ],
      "metadata": {
        "id": "T_pNOEfoc7cJ"
      }
    },
    {
      "cell_type": "code",
      "source": [
        "n = 10\n",
        "H = np.diag(np.arange(10) + 1)\n",
        "b = np.ones(n)\n",
        "x_init = np.zeros(n)\n",
        "tolerance = 1e-6\n",
        "eig_values = np.linalg.eigvals(H)\n",
        "unique_eigen_values = np.unique(eig_values)\n",
        "x_opt, iters = conjugate_gradient(H, b, x_init)\n",
        "\n",
        "print('Unique Eigen Values are', unique_eigen_values)\n",
        "print('Iterations to converge are', iters)"
      ],
      "metadata": {
        "colab": {
          "base_uri": "https://localhost:8080/"
        },
        "id": "vat9zjPWg9_U",
        "outputId": "a4a38f2a-07e3-4f0d-85ae-989b8673d1b9"
      },
      "execution_count": null,
      "outputs": [
        {
          "output_type": "stream",
          "name": "stdout",
          "text": [
            "Unique Eigen Values are [ 1.  2.  3.  4.  5.  6.  7.  8.  9. 10.]\n",
            "Iterations to converge are 94\n"
          ]
        }
      ]
    },
    {
      "cell_type": "code",
      "source": [
        "plt.figure()\n",
        "plt.title('Eigen Value Distribution')\n",
        "plt.eventplot(eig_values)\n",
        "plt.xlabel('Eigen Values')\n",
        "#plt.axis('off')\n",
        "plt.show()"
      ],
      "metadata": {
        "colab": {
          "base_uri": "https://localhost:8080/",
          "height": 295
        },
        "id": "ouQFTI2Xg93I",
        "outputId": "95e29ea1-cfc3-4b0d-976e-003459a3a9f0"
      },
      "execution_count": null,
      "outputs": [
        {
          "output_type": "display_data",
          "data": {
            "text/plain": [
              "<Figure size 432x288 with 1 Axes>"
            ],
            "image/png": "[encoded data removed]"
          },
          "metadata": {
            "needs_background": "light"
          }
        }
      ]
    },
    {
      "cell_type": "markdown",
      "source": [
        "In third example, eigen values are well spread between 1 to 10 (i.e. every integer between 1 to 10). This takes 10 iterations to converge. Hence it's clear that when eigen values are clustered, less number of iterations are needed for convergence of CG. From Nocedal, Wright, when eigen values are clustered in r clusters, approximately r iterations are needed for convergence. This is clearly being justified in our examples. Here we have taken only diagonal matrices, but the principle will hold for general matrices."
      ],
      "metadata": {
        "id": "dLW1TgryhhT4"
      }
    },
    {
      "cell_type": "code",
      "source": [
        "n = 10\n",
        "np.random.seed(5)\n",
        "L = np.tril(4 * np.random.rand(n, n)) + 0.1\n",
        "H = np.matmul(L, L.T)\n",
        "b = np.ones(n)\n",
        "x_init = np.zeros(n)\n",
        "tolerance = 1e-6\n",
        "eig_values = np.linalg.eigvals(H)\n",
        "unique_eigen_values = np.unique(eig_values)\n",
        "x_opt, iters = conjugate_gradient(H, b, x_init)\n",
        "\n",
        "print('Unique Eigen Values are', unique_eigen_values)\n",
        "print('Iterations to converge are', iters)"
      ],
      "metadata": {
        "colab": {
          "base_uri": "https://localhost:8080/"
        },
        "id": "EO4KfZPUhZEL",
        "outputId": "b57e255b-fc64-4668-c4d1-5adbee52e3d1"
      },
      "execution_count": null,
      "outputs": [
        {
          "output_type": "stream",
          "name": "stdout",
          "text": [
            "Unique Eigen Values are [3.25558785e-03 1.91045242e-02 1.65778298e-01 8.85059910e-01\n",
            " 3.80049434e+00 1.29482571e+01 1.55051716e+01 1.98333726e+01\n",
            " 3.59253093e+01 2.08066229e+02]\n",
            "Iterations to converge are 197\n"
          ]
        }
      ]
    },
    {
      "cell_type": "code",
      "source": [
        "plt.figure()\n",
        "plt.title('Eigen Value Distribution')\n",
        "plt.eventplot(eig_values)\n",
        "plt.xlabel('Eigen Values')\n",
        "#plt.axis('off')\n",
        "plt.show()"
      ],
      "metadata": {
        "colab": {
          "base_uri": "https://localhost:8080/",
          "height": 295
        },
        "id": "eIydeY_uhf62",
        "outputId": "58ba850a-6224-45f3-e89f-f5e224624339"
      },
      "execution_count": null,
      "outputs": [
        {
          "output_type": "display_data",
          "data": {
            "text/plain": [
              "<Figure size 432x288 with 1 Axes>"
            ],
            "image/png": "[encoded data removed]"
          },
          "metadata": {
            "needs_background": "light"
          }
        }
      ]
    },
    {
      "cell_type": "markdown",
      "source": [
        "Above we have shown for a general positive definite matrix. Its eigen values have 7 visible clusters and it has taken 12 iterations to converge, which is close to 7."
      ],
      "metadata": {
        "id": "_5dea4I1hx1t"
      }
    },
    {
      "cell_type": "code",
      "source": [],
      "metadata": {
        "id": "iY_ooH5ZhuMl"
      },
      "execution_count": null,
      "outputs": []
    },
    {
      "cell_type": "markdown",
      "source": [
        "# $\\textbf{Problem 3}$ \n",
        "**Quadratic Programming** \\\\\n",
        "(a) (0.5 marks) Consider the problem \\\\\n",
        "**min** $x^2_1 + 2x^2_2 − 2x_1 − 6x_2 − 2x_1x_2$, \\\\\n",
        "**s.t.**  $ x_1 + x_2 ≤ 2,\\\\\n",
        " −x_1 + 2x_2 ≤ 2, \\\\\n",
        " x_1, x_2 ≥ 0.$\n",
        "\n",
        "Solve geometrically (Plot the geometry and solution points to visualize) \\\\\n",
        "(b) (1.0 marks) Implement the active set method for quadratic programs (Algo 16.3 in Nocedal and Wright\n",
        "(2006)). \\\\\n",
        "(c) (1.0 marks) Choose three initial starting points: one in the interior of the feasible region, one at\n",
        "the vertex, and one at a non-vertex point on the boundary of the feasible region. Comment on the\n",
        "convergence properties. \\\\\n",
        "(d) (1.0 marks) Use CVXOPT and solve the above QP. What algorithm does CVXOPT use to solve QP?\n",
        "Understand and comment on your findings."
      ],
      "metadata": {
        "id": "3xBg7slPdux-"
      }
    },
    {
      "cell_type": "markdown",
      "source": [
        "## 3.(a) Geometrical Solution"
      ],
      "metadata": {
        "id": "2nPayig7meJd"
      }
    },
    {
      "cell_type": "code",
      "source": [
        "x_one = np.linspace(0, 3, 101)\n",
        "x_two = np.linspace(0, 3, 101)\n",
        "X_ONE, X_TWO = np.meshgrid(x_one, x_two)\n",
        "z_obj = X_ONE**2 + 2*(X_TWO**2) - 2*X_ONE - 6*X_TWO - 2*X_ONE*X_TWO\n",
        "x_two_ineq_one = 2 - x_one\n",
        "x_two_ineq_two = 1 + x_one/2\n",
        "\n",
        "# Co-ordinates of vertices of feasible region have to be found by solving the equations of intersecting lines.\n",
        "ineq_A = np.array([[1, 1], [-1, 2]])\n",
        "ineq_b = np.array([2, 2])\n",
        "intersection = np.matmul(np.linalg.inv(ineq_A), ineq_b)\n",
        "feasible_vertices_x = [0, 2, intersection[0], 0]\n",
        "feasible_vertices_y = [0, 0, intersection[1], 1]\n",
        "\n",
        "\n",
        "plt.figure(figsize = (10, 6))\n",
        "plt.plot(x_one, x_two_ineq_one, c = 'red', label = 'x1 + x2 = 2')\n",
        "plt.plot(x_one, x_two_ineq_two, c = 'blue', label = '-x1 + 2*x2 = 2')\n",
        "plt.fill(feasible_vertices_x, feasible_vertices_y, c = 'red', label = 'Feasible Region', alpha = 0.7)\n",
        "plt.contourf(X_ONE, X_TWO, z_obj)\n",
        "plt.colorbar()\n",
        "plt.scatter([0.8], [1.2], c = 'black', s = 50, label = 'Solution') #This is derived in the next cell.\n",
        "plt.legend()\n",
        "plt.xlim([0, 3])\n",
        "plt.ylim([0, 3])\n",
        "plt.xlabel('x1')\n",
        "plt.ylabel('x2')\n",
        "plt.title('Feasible Region and Contour plot for given problem')\n",
        "plt.show()"
      ],
      "metadata": {
        "colab": {
          "base_uri": "https://localhost:8080/",
          "height": 404
        },
        "id": "20jwnJQjgWho",
        "outputId": "7c971b98-b1fc-476b-93d0-3d06b31b84f8"
      },
      "execution_count": null,
      "outputs": [
        {
          "output_type": "display_data",
          "data": {
            "text/plain": [
              "<Figure size 720x432 with 2 Axes>"
            ],
            "image/png": "[encoded data removed]"
          },
          "metadata": {
            "needs_background": "light"
          }
        }
      ]
    },
    {
      "cell_type": "markdown",
      "source": [
        "As expected, the conour is an ellipsoid. From the plot, it's obvious that the solution will be somewhere along the two boundaries defined by two constraints. Interior point is definitely not a solution, because as per contour plot interior points will have higher value of objective function than at least one of the boundary points."
      ],
      "metadata": {
        "id": "oX5Zno7hmZC8"
      }
    },
    {
      "cell_type": "code",
      "source": [
        "# Geometric Solution of Quadratic Programming Problem\n",
        "x_one_space = np.linspace(0, 2, 1000)\n",
        "blue_filter = x_one_space < intersection[0]\n",
        "red_filter = x_one_space > intersection[0]\n",
        "len_blue = np.sum(blue_filter)\n",
        "x_two_space_blue = 1 + x_one_space/2\n",
        "x_two_space_red = 2 - x_one_space\n",
        "x_two_space = x_two_space_blue * blue_filter + x_two_space_red * red_filter\n",
        "\n",
        "obj_boundary = x_one_space**2 + 2*(x_two_space**2) - 2*x_one_space - 6*x_two_space - 2*x_one_space*x_two_space\n",
        "#print(np.min(obj_boundary))\n",
        "sol_arg = np.argmin(obj_boundary)\n",
        "sol = np.array([x_one_space[sol_arg], x_two_space[sol_arg]])\n",
        "sol_value = obj_boundary[sol_arg]\n",
        "\n",
        "print('Solution is ', sol, 'and objective function value is ', sol_value, '.')"
      ],
      "metadata": {
        "colab": {
          "base_uri": "https://localhost:8080/"
        },
        "id": "CMaWfDTlhV9T",
        "outputId": "e0e53b51-23f2-4336-99c8-d3336e46bc36"
      },
      "execution_count": null,
      "outputs": [
        {
          "output_type": "stream",
          "name": "stdout",
          "text": [
            "Solution is  [0.8008008 1.1991992] and objective function value is  -7.199996793590386 .\n"
          ]
        }
      ]
    },
    {
      "cell_type": "markdown",
      "source": [
        "## 3.(b) Active Set Method"
      ],
      "metadata": {
        "id": "zUFwXLY1mQYJ"
      }
    },
    {
      "cell_type": "code",
      "source": [
        "def subproblem(G, gk, constr):\n",
        "    '''\n",
        "    Solving the QP subproblem with equality constraints.\n",
        "    '''\n",
        "    len_sol = len(G)\n",
        "    len_lamda = len(constr)\n",
        "    left_matrix = np.concatenate((G, constr), axis = 0)\n",
        "    right_matrix = np.concatenate((-constr.T, np.zeros((len_lamda, len_lamda))), axis = 0)\n",
        "    kkt_matrix = np.concatenate((left_matrix, right_matrix), axis = 1)\n",
        "    rhs_vector = np.concatenate((-gk, np.zeros(len_lamda)), axis = 0)\n",
        "    sol_total = np.matmul(np.linalg.inv(kkt_matrix), rhs_vector)\n",
        "    sol_x = sol_total[:len_sol]\n",
        "    sol_lamda = sol_total[len_sol:]\n",
        "    return sol_x, sol_lamda"
      ],
      "metadata": {
        "id": "Gi6OlOBChV5u"
      },
      "execution_count": null,
      "outputs": []
    },
    {
      "cell_type": "code",
      "source": [
        "def active_set(G, c, A_ineq, b_ineq, A_eq, b_eq, x_init):\n",
        "    '''\n",
        "    Active Set Method as described in Algorithm 16.3 of Nocedal, Wright.\n",
        "    '''\n",
        "    x_curr = np.array(x_init)\n",
        "    \n",
        "    if A_eq is None:\n",
        "        num_eq = 0\n",
        "        num_ineq = len(b_ineq)\n",
        "        A_constr = A_ineq\n",
        "        b_constr = b_ineq\n",
        "    elif A_ineq is None:\n",
        "        num_ineq = 0\n",
        "        num_eq = len(b_eq)\n",
        "        A_constr = A_eq\n",
        "        b_constr = b_eq\n",
        "    else:\n",
        "        num_ineq = len(b_ineq)\n",
        "        num_eq = len(b_eq)\n",
        "        A_constr = np.concatenate((A_eq, A_ineq), axis = 0)\n",
        "        b_constr = np.concatenate((b_eq, b_ineq), axis = 0)\n",
        "        \n",
        "    equality_indices = np.array(list(range(0, num_eq)))\n",
        "    inequality_indices = np.array(range(num_eq, num_eq + num_ineq))\n",
        "    working_set = (np.matmul(A_constr, x_curr) - b_constr == 0)\n",
        "    working_indices = np.nonzero(working_set)[0]\n",
        "    nonworking_indices = np.nonzero(working_set == 0)[0]\n",
        "    #print(nonworking_indices)\n",
        "    iterations = 0\n",
        "    \n",
        "    while True:\n",
        "        iterations += 1\n",
        "        gk = np.matmul(G, x_curr) + c\n",
        "        constr = A_constr[working_indices]\n",
        "        p, _ = subproblem(G, gk, constr)\n",
        "        #print(x_curr)\n",
        "        #print(working_indices)\n",
        "        \n",
        "        \n",
        "        if np.all(p < 1e-5): #Using a small number rather than 0 to avoid numerical round-off issues and infinite iteration\n",
        "            lamda_vec = scipy.linalg.lstsq(constr.T, gk)[0]\n",
        "            if np.all(lamda_vec[np.nonzero(working_indices >= num_eq)[0]] >= 0):\n",
        "                return (x_curr, iterations)\n",
        "            else:\n",
        "                min_j = working_indices[np.argmin(lamda_vec)]\n",
        "                x_curr = x_curr\n",
        "                working_indices = np.delete(working_indices, np.argwhere(working_indices == min_j))\n",
        "                nonworking_indices = np.append(nonworking_indices, min_j)\n",
        "        else:\n",
        "            temp_arr = A_constr[nonworking_indices]\n",
        "            temp_Apk = np.matmul(temp_arr, p) < 0\n",
        "            nonzero_index = np.nonzero(temp_Apk)[0]\n",
        "            temp_working_index = nonworking_indices[nonzero_index]\n",
        "            temp_b_constr = b_constr[temp_working_index]\n",
        "            temp_fraction = (temp_b_constr - np.matmul(temp_arr[nonzero_index], x_curr))/(np.matmul(temp_arr[nonzero_index], p))\n",
        "            temp_index, temp_value = (np.argmin(temp_fraction), np.min(temp_fraction))\n",
        "            alpha = np.min([1, temp_value])\n",
        "            x_curr = x_curr + alpha*p\n",
        "            if (alpha < 1):\n",
        "                index_added = temp_working_index[temp_index]\n",
        "                working_indices = np.append(working_indices, index_added)\n",
        "                nonworking_indices = np.delete(nonworking_indices, np.argwhere(nonworking_indices == index_added))\n",
        "            else:\n",
        "                working_indices = working_indices"
      ],
      "metadata": {
        "id": "agrOU8a4hVxR"
      },
      "execution_count": null,
      "outputs": []
    },
    {
      "cell_type": "markdown",
      "source": [
        "## 3.(c) Solution For Different Starting Points"
      ],
      "metadata": {
        "id": "gz2E3yd3mHpA"
      }
    },
    {
      "cell_type": "code",
      "source": [
        "#Defining objective function and constraint matrices\n",
        "\n",
        "G = 2*np.array([[1.0, -1.0], [-1.0, 2.0]])\n",
        "c = np.array([-2.0, -6.0])\n",
        "A_ineq = np.array([[-1.0, -1.0], [1.0, -2.0], [1.0, 0], [0, 1.0]])\n",
        "b_ineq = np.array([-2, -2, 0, 0])\n",
        "A_eq = None\n",
        "b_eq = None"
      ],
      "metadata": {
        "id": "zRpySflnhVmW"
      },
      "execution_count": null,
      "outputs": []
    },
    {
      "cell_type": "markdown",
      "source": [
        "### Starting From Interior Points"
      ],
      "metadata": {
        "id": "KD2RbStzmB0L"
      }
    },
    {
      "cell_type": "code",
      "source": [
        "x_init_list_interior = [[0.25, 0.25], [0.25, 0.5], [0.25, 1], [0.5, 0.5], [0.5, 1], [1, 0.5], [0.75, 0.75]]\n",
        "\n",
        "iteration_interior = []\n",
        "sol_interior = []\n",
        "for x_init in x_init_list_interior:\n",
        "    sol, iterations = active_set(G, c, A_ineq, b_ineq, A_eq, b_eq, x_init)\n",
        "    print('Solution is ', sol, 'and it took ', iterations, 'number of iterations with starting point as ', x_init, '.')\n",
        "    iteration_interior.append(iterations)\n",
        "    sol_interior.append(sol)"
      ],
      "metadata": {
        "colab": {
          "base_uri": "https://localhost:8080/"
        },
        "id": "oRdBfA1VhVYz",
        "outputId": "528d2398-1645-44c7-e3d9-d92939f2677c"
      },
      "execution_count": null,
      "outputs": [
        {
          "output_type": "stream",
          "name": "stdout",
          "text": [
            "Solution is  [0.8 1.2] and it took  3 number of iterations with starting point as  [0.25, 0.25] .\n",
            "Solution is  [0.8 1.2] and it took  3 number of iterations with starting point as  [0.25, 0.5] .\n",
            "Solution is  [0.8 1.2] and it took  3 number of iterations with starting point as  [0.25, 1] .\n",
            "Solution is  [0.8 1.2] and it took  3 number of iterations with starting point as  [0.5, 0.5] .\n",
            "Solution is  [0.8 1.2] and it took  2 number of iterations with starting point as  [0.5, 1] .\n",
            "Solution is  [0.8 1.2] and it took  3 number of iterations with starting point as  [1, 0.5] .\n",
            "Solution is  [0.8 1.2] and it took  3 number of iterations with starting point as  [0.75, 0.75] .\n"
          ]
        }
      ]
    },
    {
      "cell_type": "markdown",
      "source": [
        "### Starting From Vertex Points"
      ],
      "metadata": {
        "id": "_H8DvOecl1ke"
      }
    },
    {
      "cell_type": "code",
      "source": [
        "x_init_list_vertex = [[0, 0], [0, 1], [2, 0], [0.6666667, 1.3333333]]\n",
        "\n",
        "iteration_vertex = []\n",
        "sol_vertex = []\n",
        "for x_init in x_init_list_vertex:\n",
        "    sol, iterations = active_set(G, c, A_ineq, b_ineq, A_eq, b_eq, x_init)\n",
        "    print('Solution is ', sol, 'and it took ', iterations, 'number of iterations with starting point as ', x_init, '.')\n",
        "    iteration_vertex.append(iterations)\n",
        "    sol_vertex.append(sol)"
      ],
      "metadata": {
        "colab": {
          "base_uri": "https://localhost:8080/"
        },
        "id": "Gbqi8ygchrpd",
        "outputId": "4e571331-4514-4417-8a79-ffe59090e4cc"
      },
      "execution_count": null,
      "outputs": [
        {
          "output_type": "stream",
          "name": "stdout",
          "text": [
            "Solution is  [0.8 1.2] and it took  7 number of iterations with starting point as  [0, 0] .\n",
            "Solution is  [0.8 1.2] and it took  5 number of iterations with starting point as  [0, 1] .\n",
            "Solution is  [0.8 1.2] and it took  3 number of iterations with starting point as  [2, 0] .\n",
            "Solution is  [0.8 1.2] and it took  2 number of iterations with starting point as  [0.6666667, 1.3333333] .\n"
          ]
        }
      ]
    },
    {
      "cell_type": "markdown",
      "source": [
        "### Starting From Boundary Points"
      ],
      "metadata": {
        "id": "OPiTtowIlmy0"
      }
    },
    {
      "cell_type": "code",
      "source": [
        "x_init_list_boundary = [[0.5, 0], [1, 0], [1.5, 0], [0, 0.5], [0.25, 1.125], [0.5, 1.25], [1.0, 1.0], [1.5, 0.5]]\n",
        "\n",
        "sol_boundary = []\n",
        "iteration_boundary = []\n",
        "for x_init in x_init_list_boundary:\n",
        "    sol, iterations = active_set(G, c, A_ineq, b_ineq, A_eq, b_eq, x_init)\n",
        "    print('Solution is ', sol, 'and it took ', iterations, 'number of iterations with starting point as ', x_init, '.')\n",
        "    iteration_boundary.append(iterations)\n",
        "    sol_boundary.append(sol)"
      ],
      "metadata": {
        "colab": {
          "base_uri": "https://localhost:8080/"
        },
        "id": "AhM9HTEShrfT",
        "outputId": "65c26af8-cc26-4b7e-9e1f-7c309840548c"
      },
      "execution_count": null,
      "outputs": [
        {
          "output_type": "stream",
          "name": "stdout",
          "text": [
            "Solution is  [0.8 1.2] and it took  5 number of iterations with starting point as  [0.5, 0] .\n",
            "Solution is  [0.8 1.2] and it took  4 number of iterations with starting point as  [1, 0] .\n",
            "Solution is  [0.8 1.2] and it took  4 number of iterations with starting point as  [1.5, 0] .\n",
            "Solution is  [0.8 1.2] and it took  6 number of iterations with starting point as  [0, 0.5] .\n",
            "Solution is  [0.8 1.2] and it took  4 number of iterations with starting point as  [0.25, 1.125] .\n",
            "Solution is  [0.8 1.2] and it took  4 number of iterations with starting point as  [0.5, 1.25] .\n",
            "Solution is  [0.8 1.2] and it took  2 number of iterations with starting point as  [1.0, 1.0] .\n",
            "Solution is  [0.8 1.2] and it took  2 number of iterations with starting point as  [1.5, 0.5] .\n"
          ]
        }
      ]
    },
    {
      "cell_type": "markdown",
      "source": [
        "While we can't generalize too much, it is observed that a good starting guess (closer to the solution) results in fewer number of iterations required to converge to the solution. Further we observe that when we start with interior points, we almost always reached solution within 3 iterations for this QP problem irrespective of exact starting point. However, when we start from vertices, there is a significant difference in number of iterations required for convergence. Starting at (0, 0), which is farthest to the solution required 7 iterations while starting from (0.667, 1.333) took only 2 iterations. Further we observe that starting at different boundary points lead to convergence of solution in 2 to 6 iterations depending on starting point. Points far away such as (0, 0.5) and (0.5, 0) required 6 and 5 iterations respectively, whereas closer starting points such as (1.0, 1.0) and (1.5, 0.5) required only 2 iterations. While this trend is somewhat expected, we can't generalize it too much as far away starting guesses may also lead to convergence in fewer number of iterations in some cases. Another important point to note is that we always reached optimal point. This is expected as it's a convex quadratic programming problem and active set method is globally convergent for convex QP problems."
      ],
      "metadata": {
        "id": "FmaKhsnFlg1i"
      }
    },
    {
      "cell_type": "code",
      "source": [
        "results = pd.DataFrame()\n",
        "results['Starting Point'] = x_init_list_interior + x_init_list_vertex + x_init_list_boundary\n",
        "results['Point Type'] = ['Interior']*len(x_init_list_interior) + ['Vertex']*len(x_init_list_vertex) + ['Boundary']*len(x_init_list_boundary)\n",
        "results['Results'] = sol_interior + sol_vertex + sol_boundary\n",
        "results['Iterations'] = iteration_interior + iteration_vertex + iteration_boundary\n",
        "results"
      ],
      "metadata": {
        "colab": {
          "base_uri": "https://localhost:8080/",
          "height": 645
        },
        "id": "lKijU9lLhrZK",
        "outputId": "b9c9d2d4-4ef3-458d-b4f6-0cd71ecb10af"
      },
      "execution_count": null,
      "outputs": [
        {
          "output_type": "execute_result",
          "data": {
            "text/plain": [
              "            Starting Point Point Type  \\\n",
              "0             [0.25, 0.25]   Interior   \n",
              "1              [0.25, 0.5]   Interior   \n",
              "2                [0.25, 1]   Interior   \n",
              "3               [0.5, 0.5]   Interior   \n",
              "4                 [0.5, 1]   Interior   \n",
              "5                 [1, 0.5]   Interior   \n",
              "6             [0.75, 0.75]   Interior   \n",
              "7                   [0, 0]     Vertex   \n",
              "8                   [0, 1]     Vertex   \n",
              "9                   [2, 0]     Vertex   \n",
              "10  [0.6666667, 1.3333333]     Vertex   \n",
              "11                [0.5, 0]   Boundary   \n",
              "12                  [1, 0]   Boundary   \n",
              "13                [1.5, 0]   Boundary   \n",
              "14                [0, 0.5]   Boundary   \n",
              "15           [0.25, 1.125]   Boundary   \n",
              "16             [0.5, 1.25]   Boundary   \n",
              "17              [1.0, 1.0]   Boundary   \n",
              "18              [1.5, 0.5]   Boundary   \n",
              "\n",
              "                                     Results  Iterations  \n",
              "0   [0.7999999999999997, 1.1999999999999997]           3  \n",
              "1   [0.7999999999999996, 1.1999999999999997]           3  \n",
              "2   [0.7999999999999995, 1.1999999999999997]           3  \n",
              "3   [0.7999999999999996, 1.1999999999999997]           3  \n",
              "4                                 [0.8, 1.2]           2  \n",
              "5   [0.7999999999999996, 1.1999999999999997]           3  \n",
              "6   [0.7999999999999996, 1.1999999999999997]           3  \n",
              "7   [0.7999999999999994, 1.1999999999999997]           7  \n",
              "8   [0.7999999999999994, 1.1999999999999997]           5  \n",
              "9                  [0.7999999999999998, 1.2]           3  \n",
              "10  [0.7999999999999995, 1.1999999999999997]           2  \n",
              "11  [0.7999999999999998, 1.1999999999999997]           5  \n",
              "12  [0.7999999999999998, 1.1999999999999997]           4  \n",
              "13                 [0.7999999999999998, 1.2]           4  \n",
              "14  [0.7999999999999994, 1.1999999999999997]           6  \n",
              "15  [0.7999999999999994, 1.1999999999999997]           4  \n",
              "16  [0.7999999999999994, 1.1999999999999997]           4  \n",
              "17  [0.7999999999999996, 1.1999999999999997]           2  \n",
              "18  [0.7999999999999998, 1.1999999999999997]           2  "
            ],
            "text/html": [
              "\n",
              "  <div id=\"df-70ba79a7-0636-47a1-a6bb-8d879e6fd003\">\n",
              "    <div class=\"colab-df-container\">\n",
              "      <div>\n",
              "<style scoped>\n",
              "    .dataframe tbody tr th:only-of-type {\n",
              "        vertical-align: middle;\n",
              "    }\n",
              "\n",
              "    .dataframe tbody tr th {\n",
              "        vertical-align: top;\n",
              "    }\n",
              "\n",
              "    .dataframe thead th {\n",
              "        text-align: right;\n",
              "    }\n",
              "</style>\n",
              "<table border=\"1\" class=\"dataframe\">\n",
              "  <thead>\n",
              "    <tr style=\"text-align: right;\">\n",
              "      <th></th>\n",
              "      <th>Starting Point</th>\n",
              "      <th>Point Type</th>\n",
              "      <th>Results</th>\n",
              "      <th>Iterations</th>\n",
              "    </tr>\n",
              "  </thead>\n",
              "  <tbody>\n",
              "    <tr>\n",
              "      <th>0</th>\n",
              "      <td>[0.25, 0.25]</td>\n",
              "      <td>Interior</td>\n",
              "      <td>[0.7999999999999997, 1.1999999999999997]</td>\n",
              "      <td>3</td>\n",
              "    </tr>\n",
              "    <tr>\n",
              "      <th>1</th>\n",
              "      <td>[0.25, 0.5]</td>\n",
              "      <td>Interior</td>\n",
              "      <td>[0.7999999999999996, 1.1999999999999997]</td>\n",
              "      <td>3</td>\n",
              "    </tr>\n",
              "    <tr>\n",
              "      <th>2</th>\n",
              "      <td>[0.25, 1]</td>\n",
              "      <td>Interior</td>\n",
              "      <td>[0.7999999999999995, 1.1999999999999997]</td>\n",
              "      <td>3</td>\n",
              "    </tr>\n",
              "    <tr>\n",
              "      <th>3</th>\n",
              "      <td>[0.5, 0.5]</td>\n",
              "      <td>Interior</td>\n",
              "      <td>[0.7999999999999996, 1.1999999999999997]</td>\n",
              "      <td>3</td>\n",
              "    </tr>\n",
              "    <tr>\n",
              "      <th>4</th>\n",
              "      <td>[0.5, 1]</td>\n",
              "      <td>Interior</td>\n",
              "      <td>[0.8, 1.2]</td>\n",
              "      <td>2</td>\n",
              "    </tr>\n",
              "    <tr>\n",
              "      <th>5</th>\n",
              "      <td>[1, 0.5]</td>\n",
              "      <td>Interior</td>\n",
              "      <td>[0.7999999999999996, 1.1999999999999997]</td>\n",
              "      <td>3</td>\n",
              "    </tr>\n",
              "    <tr>\n",
              "      <th>6</th>\n",
              "      <td>[0.75, 0.75]</td>\n",
              "      <td>Interior</td>\n",
              "      <td>[0.7999999999999996, 1.1999999999999997]</td>\n",
              "      <td>3</td>\n",
              "    </tr>\n",
              "    <tr>\n",
              "      <th>7</th>\n",
              "      <td>[0, 0]</td>\n",
              "      <td>Vertex</td>\n",
              "      <td>[0.7999999999999994, 1.1999999999999997]</td>\n",
              "      <td>7</td>\n",
              "    </tr>\n",
              "    <tr>\n",
              "      <th>8</th>\n",
              "      <td>[0, 1]</td>\n",
              "      <td>Vertex</td>\n",
              "      <td>[0.7999999999999994, 1.1999999999999997]</td>\n",
              "      <td>5</td>\n",
              "    </tr>\n",
              "    <tr>\n",
              "      <th>9</th>\n",
              "      <td>[2, 0]</td>\n",
              "      <td>Vertex</td>\n",
              "      <td>[0.7999999999999998, 1.2]</td>\n",
              "      <td>3</td>\n",
              "    </tr>\n",
              "    <tr>\n",
              "      <th>10</th>\n",
              "      <td>[0.6666667, 1.3333333]</td>\n",
              "      <td>Vertex</td>\n",
              "      <td>[0.7999999999999995, 1.1999999999999997]</td>\n",
              "      <td>2</td>\n",
              "    </tr>\n",
              "    <tr>\n",
              "      <th>11</th>\n",
              "      <td>[0.5, 0]</td>\n",
              "      <td>Boundary</td>\n",
              "      <td>[0.7999999999999998, 1.1999999999999997]</td>\n",
              "      <td>5</td>\n",
              "    </tr>\n",
              "    <tr>\n",
              "      <th>12</th>\n",
              "      <td>[1, 0]</td>\n",
              "      <td>Boundary</td>\n",
              "      <td>[0.7999999999999998, 1.1999999999999997]</td>\n",
              "      <td>4</td>\n",
              "    </tr>\n",
              "    <tr>\n",
              "      <th>13</th>\n",
              "      <td>[1.5, 0]</td>\n",
              "      <td>Boundary</td>\n",
              "      <td>[0.7999999999999998, 1.2]</td>\n",
              "      <td>4</td>\n",
              "    </tr>\n",
              "    <tr>\n",
              "      <th>14</th>\n",
              "      <td>[0, 0.5]</td>\n",
              "      <td>Boundary</td>\n",
              "      <td>[0.7999999999999994, 1.1999999999999997]</td>\n",
              "      <td>6</td>\n",
              "    </tr>\n",
              "    <tr>\n",
              "      <th>15</th>\n",
              "      <td>[0.25, 1.125]</td>\n",
              "      <td>Boundary</td>\n",
              "      <td>[0.7999999999999994, 1.1999999999999997]</td>\n",
              "      <td>4</td>\n",
              "    </tr>\n",
              "    <tr>\n",
              "      <th>16</th>\n",
              "      <td>[0.5, 1.25]</td>\n",
              "      <td>Boundary</td>\n",
              "      <td>[0.7999999999999994, 1.1999999999999997]</td>\n",
              "      <td>4</td>\n",
              "    </tr>\n",
              "    <tr>\n",
              "      <th>17</th>\n",
              "      <td>[1.0, 1.0]</td>\n",
              "      <td>Boundary</td>\n",
              "      <td>[0.7999999999999996, 1.1999999999999997]</td>\n",
              "      <td>2</td>\n",
              "    </tr>\n",
              "    <tr>\n",
              "      <th>18</th>\n",
              "      <td>[1.5, 0.5]</td>\n",
              "      <td>Boundary</td>\n",
              "      <td>[0.7999999999999998, 1.1999999999999997]</td>\n",
              "      <td>2</td>\n",
              "    </tr>\n",
              "  </tbody>\n",
              "</table>\n",
              "</div>\n",
              "      <button class=\"colab-df-convert\" onclick=\"convertToInteractive('df-70ba79a7-0636-47a1-a6bb-8d879e6fd003')\"\n",
              "              title=\"Convert this dataframe to an interactive table.\"\n",
              "              style=\"display:none;\">\n",
              "        \n",
              "  <svg xmlns=\"http://www.w3.org/2000/svg\" height=\"24px\"viewBox=\"0 0 24 24\"\n",
              "       width=\"24px\">\n",
              "    <path d=\"M0 0h24v24H0V0z\" fill=\"none\"/>\n",
              "    <path d=\"M18.56 5.44l.94 2.06.94-2.06 2.06-.94-2.06-.94-.94-2.06-.94 2.06-2.06.94zm-11 1L8.5 8.5l.94-2.06 2.06-.94-2.06-.94L8.5 2.5l-.94 2.06-2.06.94zm10 10l.94 2.06.94-2.06 2.06-.94-2.06-.94-.94-2.06-.94 2.06-2.06.94z\"/><path d=\"M17.41 7.96l-1.37-1.37c-.4-.4-.92-.59-1.43-.59-.52 0-1.04.2-1.43.59L10.3 9.45l-7.72 7.72c-.78.78-.78 2.05 0 2.83L4 21.41c.39.39.9.59 1.41.59.51 0 1.02-.2 1.41-.59l7.78-7.78 2.81-2.81c.8-.78.8-2.07 0-2.86zM5.41 20L4 18.59l7.72-7.72 1.47 1.35L5.41 20z\"/>\n",
              "  </svg>\n",
              "      </button>\n",
              "      \n",
              "  <style>\n",
              "    .colab-df-container {\n",
              "      display:flex;\n",
              "      flex-wrap:wrap;\n",
              "      gap: 12px;\n",
              "    }\n",
              "\n",
              "    .colab-df-convert {\n",
              "      background-color: #E8F0FE;\n",
              "      border: none;\n",
              "      border-radius: 50%;\n",
              "      cursor: pointer;\n",
              "      display: none;\n",
              "      fill: #1967D2;\n",
              "      height: 32px;\n",
              "      padding: 0 0 0 0;\n",
              "      width: 32px;\n",
              "    }\n",
              "\n",
              "    .colab-df-convert:hover {\n",
              "      background-color: #E2EBFA;\n",
              "      box-shadow: 0px 1px 2px rgba(60, 64, 67, 0.3), 0px 1px 3px 1px rgba(60, 64, 67, 0.15);\n",
              "      fill: #174EA6;\n",
              "    }\n",
              "\n",
              "    [theme=dark] .colab-df-convert {\n",
              "      background-color: #3B4455;\n",
              "      fill: #D2E3FC;\n",
              "    }\n",
              "\n",
              "    [theme=dark] .colab-df-convert:hover {\n",
              "      background-color: #434B5C;\n",
              "      box-shadow: 0px 1px 3px 1px rgba(0, 0, 0, 0.15);\n",
              "      filter: drop-shadow(0px 1px 2px rgba(0, 0, 0, 0.3));\n",
              "      fill: #FFFFFF;\n",
              "    }\n",
              "  </style>\n",
              "\n",
              "      <script>\n",
              "        const buttonEl =\n",
              "          document.querySelector('#df-70ba79a7-0636-47a1-a6bb-8d879e6fd003 button.colab-df-convert');\n",
              "        buttonEl.style.display =\n",
              "          google.colab.kernel.accessAllowed ? 'block' : 'none';\n",
              "\n",
              "        async function convertToInteractive(key) {\n",
              "          const element = document.querySelector('#df-70ba79a7-0636-47a1-a6bb-8d879e6fd003');\n",
              "          const dataTable =\n",
              "            await google.colab.kernel.invokeFunction('convertToInteractive',\n",
              "                                                     [key], {});\n",
              "          if (!dataTable) return;\n",
              "\n",
              "          const docLinkHtml = 'Like what you see? Visit the ' +\n",
              "            '<a target=\"_blank\" href=https://colab.research.google.com/notebooks/data_table.ipynb>data table notebook</a>'\n",
              "            + ' to learn more about interactive tables.';\n",
              "          element.innerHTML = '';\n",
              "          dataTable['output_type'] = 'display_data';\n",
              "          await google.colab.output.renderOutput(dataTable, element);\n",
              "          const docLink = document.createElement('div');\n",
              "          docLink.innerHTML = docLinkHtml;\n",
              "          element.appendChild(docLink);\n",
              "        }\n",
              "      </script>\n",
              "    </div>\n",
              "  </div>\n",
              "  "
            ]
          },
          "metadata": {},
          "execution_count": 123
        }
      ]
    },
    {
      "cell_type": "markdown",
      "source": [
        "## 3.(d) CVXOPT Solution"
      ],
      "metadata": {
        "id": "-Brwr7cxlUT2"
      }
    },
    {
      "cell_type": "code",
      "source": [
        "Q = 2*matrix(np.array([[1.0, -1.0], [-1.0, 2.0]]))\n",
        "p = matrix([-2.0, -6.0])\n",
        "\n",
        "G = matrix(np.array([[1.0, 1.0], [-1.0, 2.0], [-1.0, 0], [0, -1.0]]))\n",
        "h = matrix([2.0, 2.0, 0, 0])\n",
        "\n",
        "sol = solvers.qp(Q,p,G,h)\n",
        "print(sol['x'])"
      ],
      "metadata": {
        "colab": {
          "base_uri": "https://localhost:8080/"
        },
        "id": "iDp_yyl3hrSL",
        "outputId": "3d3f1e8b-20b4-41a4-b675-8c7332afeb8c"
      },
      "execution_count": null,
      "outputs": [
        {
          "output_type": "stream",
          "name": "stdout",
          "text": [
            "     pcost       dcost       gap    pres   dres\n",
            " 0: -9.7394e+00 -9.9108e+00  2e+01  1e+00  9e-01\n",
            " 1: -6.8303e+00 -8.8469e+00  2e+00  1e-16  4e-16\n",
            " 2: -7.1760e+00 -7.3253e+00  1e-01  9e-17  5e-16\n",
            " 3: -7.1998e+00 -7.2072e+00  7e-03  2e-16  1e-15\n",
            " 4: -7.2000e+00 -7.2001e+00  9e-05  9e-17  7e-15\n",
            " 5: -7.2000e+00 -7.2000e+00  9e-07  2e-16  2e-14\n",
            "Optimal solution found.\n",
            "[ 8.00e-01]\n",
            "[ 1.20e+00]\n",
            "\n"
          ]
        }
      ]
    },
    {
      "cell_type": "code",
      "source": [],
      "metadata": {
        "id": "WQbKo_9phrIf"
      },
      "execution_count": null,
      "outputs": []
    },
    {
      "cell_type": "code",
      "source": [],
      "metadata": {
        "id": "WQcVmaOthrFJ"
      },
      "execution_count": null,
      "outputs": []
    }
  ]
}