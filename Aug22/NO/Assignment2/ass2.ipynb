{
 "cells": [
  {
   "cell_type": "markdown",
   "id": "ba59e35a",
   "metadata": {},
   "source": [
    "# DS211 : Assigment 2 Submission"
   ]
  },
  {
   "cell_type": "markdown",
   "id": "1f974377",
   "metadata": {},
   "source": [
    "## Answer 2\n",
    "\n",
    "We first define $r$ which is the cash requirement for $n=8$ quarters. We also define variables $p$, $f$, $g$, $h$ which are the factors to be multiplied to the principal to calculate the amount of a loan or transaction."
   ]
  },
  {
   "cell_type": "code",
   "execution_count": 42,
   "id": "fb871ba1",
   "metadata": {},
   "outputs": [],
   "source": [
    "from scipy.optimize import linprog\n",
    "import numpy as np\n",
    "\n",
    "# Cash requirement for each quarter\n",
    "r = 100*np.array([1, 5, 1, -6, -5, 2, 6, -9])\n",
    "n = r.shape[0] # Quarters\n",
    "p = 1.01**n    # 1% 8 Quarter\n",
    "f = 1.018**2   # 1.8% 2 Quarter\n",
    "g = 1.025      # 2.5% 1 Quarter\n",
    "h = 1.005      # 0.5% 1 Quarter"
   ]
  },
  {
   "cell_type": "markdown",
   "id": "ecb6959e",
   "metadata": {},
   "source": [
    "Let $w$ be the initial two year loan,\n",
    "$x_i$ be the half yearly loan taken in the $i$-th quarter,\n",
    "$y_i$ be the quarterly loan taken in the $i$-th quarter\n",
    "and\n",
    "$z_i$ be the quarterly investment for $i$-th quarter.\n",
    "\n",
    "Now, the constraints from the cash requirments are as follows\n",
    "$$\n",
    "w + x_1 + y_1 - z_1 = b_1 \\\\\n",
    "x_2 + y_2 - z_2  - g y_1 + h z_1 = b_2 \\\\\n",
    "x_3 + y_3 - z_3  - f x_1 - g y_2 + h z_2 = b_3 \\\\\n",
    "... \\\\\n",
    "x_8 + y_8 - z_8  - f x_6 - g y_7 + h z_7 = b_3 \\\\\n",
    "$$\n",
    "\n",
    "To maximize the wealth in the end we need to minimize the following cost function\n",
    "$$\n",
    "p w + f x_7 + f x_8 + g y_8 - h z_8\n",
    "$$\n",
    "\n",
    "We use `scipy.linprog` to solve the LP problem and draw the following inferences."
   ]
  },
  {
   "cell_type": "code",
   "execution_count": 43,
   "id": "035061bd",
   "metadata": {},
   "outputs": [
    {
     "name": "stdout",
     "output_type": "stream",
     "text": [
      "Initial loan for 2 years : 399.8099217133485 crore INR\n",
      "Half yearly loan to be taken is\n",
      "[  0.         198.69102868   0.           0.           0.\n",
      "   0.           0.           0.        ] crore INR\n",
      "Quarterly loan to be taken is\n",
      "[  0.   0. 100.   0.   0.   0.   0.   0.] crore INR\n",
      "The cost function value is -471.56314529606266 crore INR\n"
     ]
    }
   ],
   "source": [
    "b = r                         # From the table\n",
    "A = np.zeros((n+2,3*n+1))     # 2 extra quarter calc\n",
    "A[0,0] = 1                    # Initial loan w\n",
    "A[n,0] = -p                   # Repayment    \n",
    "for i in range(n):\n",
    "    #  2 quarter loan\n",
    "    A[i,3*i+1] = 1\n",
    "    A[i+2,3*i+1] = -f\n",
    "    # 1 quarter loan\n",
    "    A[i,3*i+2] =  1\n",
    "    A[i+1,3*i+2] = -g\n",
    "    # 1 quarter investment\n",
    "    A[i,3*i+3] =  -1\n",
    "    A[i+1,3*i+3] =  h\n",
    "c = -A[n:,:].sum(axis=0)      # Cost function cTx\n",
    "A = A[:n,:]\n",
    "\n",
    "res = linprog(c, A_eq = A, b_eq = b)\n",
    "\n",
    "print(f\"Initial loan for 2 years : {res.x[0]} crore INR\")\n",
    "print(f\"Half yearly loan to be taken is\\n{res.x[1::3]} crore INR\")\n",
    "print(f\"Quarterly loan to be taken is\\n{res.x[2::3]} crore INR\")\n",
    "print(f\"The cost function value is {c.dot(res.x)} crore INR\")"
   ]
  },
  {
   "cell_type": "markdown",
   "id": "2fa41d9a",
   "metadata": {},
   "source": [
    "The following is an implementation of the revised simplex method and phase1 program to find and initial feasible point given the constraints $Ax = b$."
   ]
  },
  {
   "cell_type": "code",
   "execution_count": 44,
   "id": "faf70466",
   "metadata": {},
   "outputs": [],
   "source": [
    "def simplex(c, A, b, x):\n",
    "    # Assuming n > m and that A is full rank and x is feasible\n",
    "    n = len(c) # Number of variables \n",
    "    m = len(b) # Number of constraints \n",
    "    \n",
    "    nbasic = np.where(np.absolute(x) < 1e-5)[0][:n-m]\n",
    "    basic = np.setdiff1d(np.arange(n), nbasic)\n",
    "\n",
    "    for k in range(100):\n",
    "        B = A[:, basic]  \n",
    "        print(B.shape,  np.linalg.matrix_rank(B))\n",
    "        N = A[:, nbasic] \n",
    "        xB = x[basic]\n",
    "        cB = c[basic]\n",
    "        cN = c[nbasic]\n",
    "        la = np.linalg.solve(B.T, cB)\n",
    "        sN = cN - N.T @ la\n",
    "        if all(sN >= 0): # optimal point found \n",
    "            print(f\"Optimal found\")\n",
    "            return x\n",
    "        min_sN = np.argmin(sN)\n",
    "        q = nbasic[min_sN]\n",
    "        d = np.linalg.solve(B, A[:, q])\n",
    "        if all(d < 0):\n",
    "            print(\"Problem unbounded\")\n",
    "            return\n",
    "        i_dpos = np.where(d > 0)[0]\n",
    "        fract = xB[i_dpos] / d[i_dpos]\n",
    "        xqpos = np.min(fract)\n",
    "        p = i_dpos[np.argmin(fract)] \n",
    "        indq, = np.where(nbasic == q)\n",
    "        xB_plus = xB - d * xqpos\n",
    "        xN_plus = np.zeros(n - m)\n",
    "        xN_plus[indq] = xqpos\n",
    "        x[basic] = xB_plus\n",
    "        x[nbasic] = xN_plus\n",
    "        nbasic[indq] = basic[p]\n",
    "        basic[p] = q\n",
    "\n",
    "    print(\"Could not converge\")\n",
    "    return"
   ]
  },
  {
   "cell_type": "code",
   "execution_count": 45,
   "id": "46dc4c9c",
   "metadata": {},
   "outputs": [],
   "source": [
    "def phase1(A,b):\n",
    "    m, n = A.shape\n",
    "    e = np.concatenate((np.zeros(n), np.ones(m)))\n",
    "    E = np.diag(-1 + 2 * (b >= 0))\n",
    "    A_p1 = np.hstack((A, E))\n",
    "    x = np.concatenate((np.zeros(n), np.abs(b)))\n",
    "    x = simplex(e, A_p1, b, x)\n",
    "    x = x[:n]\n",
    "    return x"
   ]
  },
  {
   "cell_type": "code",
   "execution_count": 46,
   "id": "8a8d44aa",
   "metadata": {},
   "outputs": [
    {
     "name": "stdout",
     "output_type": "stream",
     "text": [
      "(8, 8) 8\n",
      "(8, 8) 8\n",
      "(8, 8) 8\n",
      "(8, 8) 8\n",
      "(8, 8) 8\n",
      "(8, 8) 8\n",
      "(8, 8) 8\n",
      "(8, 8) 8\n",
      "(8, 8) 8\n",
      "Optimal found\n",
      "(8, 8) 8\n",
      "(8, 8) 8\n",
      "(8, 8) 8\n",
      "(8, 8) 8\n",
      "(8, 8) 8\n",
      "Optimal found\n"
     ]
    }
   ],
   "source": [
    "x = phase1(A,b)\n",
    "ans = simplex(c, A, b, x)"
   ]
  },
  {
   "cell_type": "markdown",
   "id": "0f023ab4",
   "metadata": {},
   "source": [
    "We get the same solution again using this implementation"
   ]
  },
  {
   "cell_type": "code",
   "execution_count": 47,
   "id": "a6963337",
   "metadata": {},
   "outputs": [
    {
     "name": "stdout",
     "output_type": "stream",
     "text": [
      "Initial loan for 2 years : 399.8099217133486 crore INR\n",
      "Half yearly loan to be taken is\n",
      "[  0.         198.69102868   0.           0.           0.\n",
      "   0.           0.           0.        ] crore INR\n",
      "Quarterly loan to be taken is\n",
      "[  0.   0. 100.   0.   0.   0.   0.   0.] crore INR\n",
      "The cost function value is -471.56314529606254 crore INR\n"
     ]
    }
   ],
   "source": [
    "print(f\"Initial loan for 2 years : {ans[0]} crore INR\")\n",
    "print(f\"Half yearly loan to be taken is\\n{ans[1::3]} crore INR\")\n",
    "print(f\"Quarterly loan to be taken is\\n{ans[2::3]} crore INR\")\n",
    "print(f\"The cost function value is {c.dot(ans)} crore INR\")"
   ]
  },
  {
   "cell_type": "markdown",
   "id": "44f3d343",
   "metadata": {},
   "source": [
    "Now we use the different options of `scipy.linprog` to solve the LP problem. Interestingly, we get a deprecation warning in doing so but find the solutions to be close to the order of $10^{-6}$."
   ]
  },
  {
   "cell_type": "code",
   "execution_count": 48,
   "id": "be890f20",
   "metadata": {},
   "outputs": [
    {
     "name": "stderr",
     "output_type": "stream",
     "text": [
      "/tmp/ipykernel_32885/1516641352.py:1: DeprecationWarning: `method='interior-point'` is deprecated and will be removed in SciPy 1.11.0. Please use one of the HiGHS solvers (e.g. `method='highs'`) in new code.\n",
      "  res1 = linprog(c, A_eq = A, b_eq = b, method=\"interior-point\")\n",
      "/tmp/ipykernel_32885/1516641352.py:2: DeprecationWarning: `method='revised simplex'` is deprecated and will be removed in SciPy 1.11.0. Please use one of the HiGHS solvers (e.g. `method='highs'`) in new code.\n",
      "  res2 = linprog(c, A_eq = A, b_eq = b, method=\"revised simplex\")\n"
     ]
    }
   ],
   "source": [
    "res1 = linprog(c, A_eq = A, b_eq = b, method=\"interior-point\")\n",
    "res2 = linprog(c, A_eq = A, b_eq = b, method=\"revised simplex\")"
   ]
  },
  {
   "cell_type": "code",
   "execution_count": 49,
   "id": "6aa48b41",
   "metadata": {},
   "outputs": [
    {
     "name": "stdout",
     "output_type": "stream",
     "text": [
      "The difference between the two solutions : [ 4.76691463e-06  1.32057270e-06  1.40478013e-06  7.52365850e-06\n",
      "  3.56094020e-06  1.52822621e-06  1.13703662e-05  3.17177011e-06\n",
      " -1.03103099e-05  1.38571710e-06  8.77181363e-07  1.10948347e-06\n",
      "  1.00650314e-05  2.11517838e-06  1.16836264e-06  8.81450558e-06\n",
      "  1.62844622e-06  1.03894593e-06  9.48343188e-06  1.35902484e-06\n",
      "  7.30899386e-08  7.89817638e-06  9.24827220e-07  1.56374295e-06\n",
      "  8.37556183e-06]\n"
     ]
    }
   ],
   "source": [
    "print(f\"The difference between the two solutions : {res1.x - res2.x}\")"
   ]
  },
  {
   "cell_type": "markdown",
   "id": "2b2ea65b",
   "metadata": {},
   "source": [
    "Finally we list out the cost function values for the 4 ways we have solved the LP problem."
   ]
  },
  {
   "cell_type": "code",
   "execution_count": 50,
   "id": "fb17e037",
   "metadata": {},
   "outputs": [
    {
     "name": "stdout",
     "output_type": "stream",
     "text": [
      "linprog : -471.56314529606266\n",
      "self implemented simplex : -471.56314529606254\n",
      "linprog interior point: -471.5631445819696\n",
      "linprog revised simplex: -471.5631452960626\n"
     ]
    }
   ],
   "source": [
    "print(f\"linprog : {c.dot(res.x)}\")\n",
    "print(f\"self implemented simplex : {c.dot(ans)}\")\n",
    "print(f\"linprog interior point: {c.dot(res1.x)}\")\n",
    "print(f\"linprog revised simplex: {c.dot(res2.x)}\")"
   ]
  }
 ],
 "metadata": {
  "kernelspec": {
   "display_name": "Python 3 (ipykernel)",
   "language": "python",
   "name": "python3"
  },
  "language_info": {
   "codemirror_mode": {
    "name": "ipython",
    "version": 3
   },
   "file_extension": ".py",
   "mimetype": "text/x-python",
   "name": "python",
   "nbconvert_exporter": "python",
   "pygments_lexer": "ipython3",
   "version": "3.10.8"
  }
 },
 "nbformat": 4,
 "nbformat_minor": 5
}
